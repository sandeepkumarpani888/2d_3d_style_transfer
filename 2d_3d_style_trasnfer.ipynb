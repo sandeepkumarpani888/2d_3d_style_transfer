{
  "nbformat": 4,
  "nbformat_minor": 0,
  "metadata": {
    "colab": {
      "name": "2d_3d_style_trasnfer",
      "provenance": [],
      "collapsed_sections": [],
      "include_colab_link": true
    },
    "kernelspec": {
      "name": "python3",
      "display_name": "Python 3"
    },
    "language_info": {
      "name": "python"
    },
    "accelerator": "GPU"
  },
  "cells": [
    {
      "cell_type": "markdown",
      "metadata": {
        "id": "view-in-github",
        "colab_type": "text"
      },
      "source": [
        "<a href=\"https://colab.research.google.com/github/sandeepkumarpani888/2d_3d_style_transfer/blob/main/2d_3d_style_trasnfer.ipynb\" target=\"_parent\"><img src=\"https://colab.research.google.com/assets/colab-badge.svg\" alt=\"Open In Colab\"/></a>"
      ]
    },
    {
      "cell_type": "code",
      "metadata": {
        "colab": {
          "base_uri": "https://localhost:8080/",
          "height": 35
        },
        "id": "Y-m5gm_qYRnG",
        "outputId": "3edee985-1dd0-412b-ecd3-8ea6fb602440"
      },
      "source": [
        "pwd"
      ],
      "execution_count": 2,
      "outputs": [
        {
          "output_type": "execute_result",
          "data": {
            "application/vnd.google.colaboratory.intrinsic+json": {
              "type": "string"
            },
            "text/plain": [
              "'/content'"
            ]
          },
          "metadata": {
            "tags": []
          },
          "execution_count": 2
        }
      ]
    },
    {
      "cell_type": "code",
      "metadata": {
        "colab": {
          "base_uri": "https://localhost:8080/"
        },
        "id": "6JuO62wHWLWI",
        "outputId": "be7ea0c8-372d-47c9-ef89-466568a41389"
      },
      "source": [
        "!git clone https://github.com/hiroharu-kato/style_transfer_3d"
      ],
      "execution_count": 1,
      "outputs": [
        {
          "output_type": "stream",
          "text": [
            "Cloning into 'style_transfer_3d'...\n",
            "remote: Enumerating objects: 113, done.\u001b[K\n",
            "remote: Total 113 (delta 0), reused 0 (delta 0), pack-reused 113\u001b[K\n",
            "Receiving objects: 100% (113/113), 13.92 MiB | 26.95 MiB/s, done.\n",
            "Resolving deltas: 100% (18/18), done.\n"
          ],
          "name": "stdout"
        }
      ]
    },
    {
      "cell_type": "code",
      "metadata": {
        "colab": {
          "base_uri": "https://localhost:8080/"
        },
        "id": "RW1mZENWWOAT",
        "outputId": "2d62c02f-3253-4d75-9433-d38c3eed1ec1"
      },
      "source": [
        "cd .."
      ],
      "execution_count": null,
      "outputs": [
        {
          "output_type": "stream",
          "text": [
            "/content\n"
          ],
          "name": "stdout"
        }
      ]
    },
    {
      "cell_type": "code",
      "metadata": {
        "colab": {
          "base_uri": "https://localhost:8080/"
        },
        "id": "zhOht-vUWNz5",
        "outputId": "57d9e65f-8326-4a59-8c6e-1b27a912bede"
      },
      "source": [
        "ls"
      ],
      "execution_count": null,
      "outputs": [
        {
          "output_type": "stream",
          "text": [
            "\u001b[0m\u001b[01;34msample_data\u001b[0m/  \u001b[01;34mstyle_transfer_3d\u001b[0m/\n"
          ],
          "name": "stdout"
        }
      ]
    },
    {
      "cell_type": "code",
      "metadata": {
        "colab": {
          "base_uri": "https://localhost:8080/"
        },
        "id": "lDnU6yxrYvrX",
        "outputId": "dcabd8cb-835c-4e7a-b980-f0a2cf534a8a"
      },
      "source": [
        "cd style_transfer_3d/"
      ],
      "execution_count": 3,
      "outputs": [
        {
          "output_type": "stream",
          "text": [
            "/content/style_transfer_3d\n"
          ],
          "name": "stdout"
        }
      ]
    },
    {
      "cell_type": "code",
      "metadata": {
        "colab": {
          "base_uri": "https://localhost:8080/"
        },
        "id": "LpaaUx49Y1ty",
        "outputId": "bb482cb3-9a5c-44d9-a169-9d830c1f180b"
      },
      "source": [
        "ls"
      ],
      "execution_count": null,
      "outputs": [
        {
          "output_type": "stream",
          "text": [
            "\u001b[0m\u001b[01;34mexamples\u001b[0m/  LICENSE  \u001b[01;34mold_code\u001b[0m/  README.md  setup.py  \u001b[01;34mstyle_transfer_3d\u001b[0m/\n"
          ],
          "name": "stdout"
        }
      ]
    },
    {
      "cell_type": "code",
      "metadata": {
        "colab": {
          "base_uri": "https://localhost:8080/"
        },
        "id": "CUeKKzf8Y3Vt",
        "outputId": "e1b62fcb-d209-41b5-b52a-53630bea42de"
      },
      "source": [
        "!python setup.py install"
      ],
      "execution_count": 4,
      "outputs": [
        {
          "output_type": "stream",
          "text": [
            "running install\n",
            "running bdist_egg\n",
            "running egg_info\n",
            "creating style_transfer_3d.egg-info\n",
            "writing style_transfer_3d.egg-info/PKG-INFO\n",
            "writing dependency_links to style_transfer_3d.egg-info/dependency_links.txt\n",
            "writing top-level names to style_transfer_3d.egg-info/top_level.txt\n",
            "writing manifest file 'style_transfer_3d.egg-info/SOURCES.txt'\n",
            "adding license file 'LICENSE'\n",
            "writing manifest file 'style_transfer_3d.egg-info/SOURCES.txt'\n",
            "installing library code to build/bdist.linux-x86_64/egg\n",
            "running install_lib\n",
            "running build_py\n",
            "creating build\n",
            "creating build/lib\n",
            "creating build/lib/style_transfer_3d\n",
            "copying style_transfer_3d/main.py -> build/lib/style_transfer_3d\n",
            "copying style_transfer_3d/__init__.py -> build/lib/style_transfer_3d\n",
            "creating build/bdist.linux-x86_64\n",
            "creating build/bdist.linux-x86_64/egg\n",
            "creating build/bdist.linux-x86_64/egg/style_transfer_3d\n",
            "copying build/lib/style_transfer_3d/main.py -> build/bdist.linux-x86_64/egg/style_transfer_3d\n",
            "copying build/lib/style_transfer_3d/__init__.py -> build/bdist.linux-x86_64/egg/style_transfer_3d\n",
            "byte-compiling build/bdist.linux-x86_64/egg/style_transfer_3d/main.py to main.cpython-37.pyc\n",
            "byte-compiling build/bdist.linux-x86_64/egg/style_transfer_3d/__init__.py to __init__.cpython-37.pyc\n",
            "creating build/bdist.linux-x86_64/egg/EGG-INFO\n",
            "copying style_transfer_3d.egg-info/PKG-INFO -> build/bdist.linux-x86_64/egg/EGG-INFO\n",
            "copying style_transfer_3d.egg-info/SOURCES.txt -> build/bdist.linux-x86_64/egg/EGG-INFO\n",
            "copying style_transfer_3d.egg-info/dependency_links.txt -> build/bdist.linux-x86_64/egg/EGG-INFO\n",
            "copying style_transfer_3d.egg-info/top_level.txt -> build/bdist.linux-x86_64/egg/EGG-INFO\n",
            "zip_safe flag not set; analyzing archive contents...\n",
            "creating dist\n",
            "creating 'dist/style_transfer_3d-0.0.1-py3.7.egg' and adding 'build/bdist.linux-x86_64/egg' to it\n",
            "removing 'build/bdist.linux-x86_64/egg' (and everything under it)\n",
            "Processing style_transfer_3d-0.0.1-py3.7.egg\n",
            "Copying style_transfer_3d-0.0.1-py3.7.egg to /usr/local/lib/python3.7/dist-packages\n",
            "Adding style-transfer-3d 0.0.1 to easy-install.pth file\n",
            "\n",
            "Installed /usr/local/lib/python3.7/dist-packages/style_transfer_3d-0.0.1-py3.7.egg\n",
            "Processing dependencies for style-transfer-3d==0.0.1\n",
            "Finished processing dependencies for style-transfer-3d==0.0.1\n"
          ],
          "name": "stdout"
        }
      ]
    },
    {
      "cell_type": "code",
      "metadata": {
        "colab": {
          "base_uri": "https://localhost:8080/"
        },
        "id": "Vgjn-l2FZm8G",
        "outputId": "525bfc12-d28a-4b67-c3b6-c3ccc97dba9d"
      },
      "source": [
        "!git clone https://github.com/hiroharu-kato/neural_renderer.git"
      ],
      "execution_count": 5,
      "outputs": [
        {
          "output_type": "stream",
          "text": [
            "Cloning into 'neural_renderer'...\n",
            "remote: Enumerating objects: 614, done.\u001b[K\n",
            "remote: Total 614 (delta 0), reused 0 (delta 0), pack-reused 614\u001b[K\n",
            "Receiving objects: 100% (614/614), 18.70 MiB | 32.56 MiB/s, done.\n",
            "Resolving deltas: 100% (353/353), done.\n"
          ],
          "name": "stdout"
        }
      ]
    },
    {
      "cell_type": "code",
      "metadata": {
        "colab": {
          "base_uri": "https://localhost:8080/"
        },
        "id": "cXAnIT7jZrrz",
        "outputId": "4fb7dc8d-94b7-4d59-b080-2db5a881fbf6"
      },
      "source": [
        "cd neural_renderer"
      ],
      "execution_count": 6,
      "outputs": [
        {
          "output_type": "stream",
          "text": [
            "/content/style_transfer_3d/neural_renderer\n"
          ],
          "name": "stdout"
        }
      ]
    },
    {
      "cell_type": "code",
      "metadata": {
        "colab": {
          "base_uri": "https://localhost:8080/",
          "height": 35
        },
        "id": "-tcTYtb_Yf7M",
        "outputId": "be6ee64b-a84b-40f6-e9a8-234512aacc72"
      },
      "source": [
        "pwd"
      ],
      "execution_count": 7,
      "outputs": [
        {
          "output_type": "execute_result",
          "data": {
            "application/vnd.google.colaboratory.intrinsic+json": {
              "type": "string"
            },
            "text/plain": [
              "'/content/style_transfer_3d/neural_renderer'"
            ]
          },
          "metadata": {
            "tags": []
          },
          "execution_count": 7
        }
      ]
    },
    {
      "cell_type": "code",
      "metadata": {
        "colab": {
          "base_uri": "https://localhost:8080/"
        },
        "id": "EhMVmpylZ2Yu",
        "outputId": "be9e29cb-2e4a-4ee3-c4e3-33bd88f37411"
      },
      "source": [
        "!pip install cross"
      ],
      "execution_count": 8,
      "outputs": [
        {
          "output_type": "stream",
          "text": [
            "Collecting cross\n",
            "  Downloading https://files.pythonhosted.org/packages/ce/4f/8b61cdf8bb9e11a19e60369199e27e4f93de46a12a10767976243edd97ff/cross-1.0.3.tar.gz\n",
            "Building wheels for collected packages: cross\n",
            "  Building wheel for cross (setup.py) ... \u001b[?25l\u001b[?25hdone\n",
            "  Created wheel for cross: filename=cross-1.0.3-py2.py3-none-any.whl size=16457 sha256=ac7552c075dbcec520f2a092670af476bf33e4d1638d0b054436fd156f55fc2e\n",
            "  Stored in directory: /root/.cache/pip/wheels/05/84/96/2c733bfb92948e7398c1ab8237d5a4f0066582f965af1ae69b\n",
            "Successfully built cross\n",
            "Installing collected packages: cross\n",
            "Successfully installed cross-1.0.3\n"
          ],
          "name": "stdout"
        }
      ]
    },
    {
      "cell_type": "code",
      "metadata": {
        "colab": {
          "base_uri": "https://localhost:8080/",
          "height": 35
        },
        "id": "lPP09vtNc19X",
        "outputId": "40cf4f5a-7661-4586-b6d4-32f37cd3a96b"
      },
      "source": [
        "pwd"
      ],
      "execution_count": 19,
      "outputs": [
        {
          "output_type": "execute_result",
          "data": {
            "application/vnd.google.colaboratory.intrinsic+json": {
              "type": "string"
            },
            "text/plain": [
              "'/content/style_transfer_3d/neural_renderer'"
            ]
          },
          "metadata": {
            "tags": []
          },
          "execution_count": 19
        }
      ]
    },
    {
      "cell_type": "code",
      "metadata": {
        "colab": {
          "base_uri": "https://localhost:8080/"
        },
        "id": "hQj_bmcrZyvU",
        "outputId": "8686c94f-f96e-43f8-a7af-f79cd0d8de7e"
      },
      "source": [
        "!python setup.py install --user\n"
      ],
      "execution_count": 20,
      "outputs": [
        {
          "output_type": "stream",
          "text": [
            "\u001b[39mrunning install\u001b[0m\n",
            "\u001b[39mrunning bdist_egg\u001b[0m\n",
            "\u001b[39mrunning egg_info\u001b[0m\n",
            "\u001b[39mwriting neural_renderer.egg-info/PKG-INFO\u001b[0m\n",
            "\u001b[39mwriting dependency_links to neural_renderer.egg-info/dependency_links.txt\u001b[0m\n",
            "\u001b[39mwriting requirements to neural_renderer.egg-info/requires.txt\u001b[0m\n",
            "\u001b[39mwriting top-level names to neural_renderer.egg-info/top_level.txt\u001b[0m\n",
            "\u001b[39madding license file 'LICENSE'\u001b[0m\n",
            "\u001b[39mwriting manifest file 'neural_renderer.egg-info/SOURCES.txt'\u001b[0m\n",
            "\u001b[39minstalling library code to build/bdist.linux-x86_64/egg\u001b[0m\n",
            "\u001b[39mrunning install_lib\u001b[0m\n",
            "\u001b[39mrunning build_py\u001b[0m\n",
            "\u001b[39mcreating build/bdist.linux-x86_64/egg\u001b[0m\n",
            "\u001b[39mcreating build/bdist.linux-x86_64/egg/neural_renderer\u001b[0m\n",
            "\u001b[39mcopying build/lib/neural_renderer/lighting.py -> build/bdist.linux-x86_64/egg/neural_renderer\u001b[0m\n",
            "\u001b[39mcopying build/lib/neural_renderer/get_points_from_angles.py -> build/bdist.linux-x86_64/egg/neural_renderer\u001b[0m\n",
            "\u001b[39mcopying build/lib/neural_renderer/mesh.py -> build/bdist.linux-x86_64/egg/neural_renderer\u001b[0m\n",
            "\u001b[39mcopying build/lib/neural_renderer/load_obj.py -> build/bdist.linux-x86_64/egg/neural_renderer\u001b[0m\n",
            "\u001b[39mcopying build/lib/neural_renderer/cross.py -> build/bdist.linux-x86_64/egg/neural_renderer\u001b[0m\n",
            "\u001b[39mcopying build/lib/neural_renderer/rasterize.py -> build/bdist.linux-x86_64/egg/neural_renderer\u001b[0m\n",
            "\u001b[39mcopying build/lib/neural_renderer/save_obj.py -> build/bdist.linux-x86_64/egg/neural_renderer\u001b[0m\n",
            "\u001b[39mcopying build/lib/neural_renderer/__init__.py -> build/bdist.linux-x86_64/egg/neural_renderer\u001b[0m\n",
            "\u001b[39mcopying build/lib/neural_renderer/perspective.py -> build/bdist.linux-x86_64/egg/neural_renderer\u001b[0m\n",
            "\u001b[39mcopying build/lib/neural_renderer/look.py -> build/bdist.linux-x86_64/egg/neural_renderer\u001b[0m\n",
            "\u001b[39mcopying build/lib/neural_renderer/optimizers.py -> build/bdist.linux-x86_64/egg/neural_renderer\u001b[0m\n",
            "\u001b[39mcopying build/lib/neural_renderer/look_at.py -> build/bdist.linux-x86_64/egg/neural_renderer\u001b[0m\n",
            "\u001b[39mcopying build/lib/neural_renderer/renderer.py -> build/bdist.linux-x86_64/egg/neural_renderer\u001b[0m\n",
            "\u001b[39mcopying build/lib/neural_renderer/vertices_to_faces.py -> build/bdist.linux-x86_64/egg/neural_renderer\u001b[0m\n",
            "\u001b[39mbyte-compiling build/bdist.linux-x86_64/egg/neural_renderer/lighting.py to lighting.cpython-37.pyc\u001b[0m\n",
            "\u001b[39mbyte-compiling build/bdist.linux-x86_64/egg/neural_renderer/get_points_from_angles.py to get_points_from_angles.cpython-37.pyc\u001b[0m\n",
            "\u001b[39mbyte-compiling build/bdist.linux-x86_64/egg/neural_renderer/mesh.py to mesh.cpython-37.pyc\u001b[0m\n",
            "\u001b[39mbyte-compiling build/bdist.linux-x86_64/egg/neural_renderer/load_obj.py to load_obj.cpython-37.pyc\u001b[0m\n",
            "\u001b[39mbyte-compiling build/bdist.linux-x86_64/egg/neural_renderer/cross.py to cross.cpython-37.pyc\u001b[0m\n",
            "\u001b[39mbyte-compiling build/bdist.linux-x86_64/egg/neural_renderer/rasterize.py to rasterize.cpython-37.pyc\u001b[0m\n",
            "\u001b[39mbyte-compiling build/bdist.linux-x86_64/egg/neural_renderer/save_obj.py to save_obj.cpython-37.pyc\u001b[0m\n",
            "\u001b[39mbyte-compiling build/bdist.linux-x86_64/egg/neural_renderer/__init__.py to __init__.cpython-37.pyc\u001b[0m\n",
            "\u001b[39mbyte-compiling build/bdist.linux-x86_64/egg/neural_renderer/perspective.py to perspective.cpython-37.pyc\u001b[0m\n",
            "\u001b[39mbyte-compiling build/bdist.linux-x86_64/egg/neural_renderer/look.py to look.cpython-37.pyc\u001b[0m\n",
            "\u001b[39mbyte-compiling build/bdist.linux-x86_64/egg/neural_renderer/optimizers.py to optimizers.cpython-37.pyc\u001b[0m\n",
            "\u001b[39mbyte-compiling build/bdist.linux-x86_64/egg/neural_renderer/look_at.py to look_at.cpython-37.pyc\u001b[0m\n",
            "\u001b[39mbyte-compiling build/bdist.linux-x86_64/egg/neural_renderer/renderer.py to renderer.cpython-37.pyc\u001b[0m\n",
            "\u001b[39mbyte-compiling build/bdist.linux-x86_64/egg/neural_renderer/vertices_to_faces.py to vertices_to_faces.cpython-37.pyc\u001b[0m\n",
            "\u001b[39mcreating build/bdist.linux-x86_64/egg/EGG-INFO\u001b[0m\n",
            "\u001b[39mcopying neural_renderer.egg-info/PKG-INFO -> build/bdist.linux-x86_64/egg/EGG-INFO\u001b[0m\n",
            "\u001b[39mcopying neural_renderer.egg-info/SOURCES.txt -> build/bdist.linux-x86_64/egg/EGG-INFO\u001b[0m\n",
            "\u001b[39mcopying neural_renderer.egg-info/dependency_links.txt -> build/bdist.linux-x86_64/egg/EGG-INFO\u001b[0m\n",
            "\u001b[39mcopying neural_renderer.egg-info/requires.txt -> build/bdist.linux-x86_64/egg/EGG-INFO\u001b[0m\n",
            "\u001b[39mcopying neural_renderer.egg-info/top_level.txt -> build/bdist.linux-x86_64/egg/EGG-INFO\u001b[0m\n",
            "\u001b[31mzip_safe flag not set; analyzing archive contents...\u001b[0m\n",
            "\u001b[39mcreating 'dist/neural_renderer-1.1.3-py3.7.egg' and adding 'build/bdist.linux-x86_64/egg' to it\u001b[0m\n",
            "\u001b[39mremoving 'build/bdist.linux-x86_64/egg' (and everything under it)\u001b[0m\n",
            "\u001b[39mProcessing neural_renderer-1.1.3-py3.7.egg\u001b[0m\n",
            "\u001b[39mRemoving /root/.local/lib/python3.7/site-packages/neural_renderer-1.1.3-py3.7.egg\u001b[0m\n",
            "\u001b[39mCopying neural_renderer-1.1.3-py3.7.egg to /root/.local/lib/python3.7/site-packages\u001b[0m\n",
            "\u001b[39mneural-renderer 1.1.3 is already the active version in easy-install.pth\u001b[0m\n",
            "\u001b[39m\n",
            "Installed /root/.local/lib/python3.7/site-packages/neural_renderer-1.1.3-py3.7.egg\u001b[0m\n",
            "\u001b[39mProcessing dependencies for neural-renderer==1.1.3\u001b[0m\n",
            "\u001b[39mSearching for scikit-image==0.16.2\u001b[0m\n",
            "\u001b[39mBest match: scikit-image 0.16.2\u001b[0m\n",
            "\u001b[39mAdding scikit-image 0.16.2 to easy-install.pth file\u001b[0m\n",
            "\u001b[39mInstalling skivi script to /root/.local/bin\u001b[0m\n",
            "\u001b[39m\n",
            "Using /usr/local/lib/python3.7/dist-packages\u001b[0m\n",
            "\u001b[39mSearching for tqdm==4.41.1\u001b[0m\n",
            "\u001b[39mBest match: tqdm 4.41.1\u001b[0m\n",
            "\u001b[39mAdding tqdm 4.41.1 to easy-install.pth file\u001b[0m\n",
            "\u001b[39mInstalling tqdm script to /root/.local/bin\u001b[0m\n",
            "\u001b[39m\n",
            "Using /usr/local/lib/python3.7/dist-packages\u001b[0m\n",
            "\u001b[39mSearching for cupy==10.0.0a1\u001b[0m\n",
            "\u001b[39mBest match: cupy 10.0.0a1\u001b[0m\n",
            "\u001b[39mProcessing cupy-10.0.0a1-py3.7-linux-x86_64.egg\u001b[0m\n",
            "\u001b[39mAdding cupy 10.0.0a1 to easy-install.pth file\u001b[0m\n",
            "\u001b[39m\n",
            "Using /root/.local/lib/python3.7/site-packages/cupy-10.0.0a1-py3.7-linux-x86_64.egg\u001b[0m\n",
            "\u001b[39mSearching for chainer==7.4.0\u001b[0m\n",
            "\u001b[39mBest match: chainer 7.4.0\u001b[0m\n",
            "\u001b[39mAdding chainer 7.4.0 to easy-install.pth file\u001b[0m\n",
            "\u001b[39m\n",
            "Using /usr/local/lib/python3.7/dist-packages\u001b[0m\n",
            "\u001b[39mSearching for numpy==1.19.5\u001b[0m\n",
            "\u001b[39mBest match: numpy 1.19.5\u001b[0m\n",
            "\u001b[39mAdding numpy 1.19.5 to easy-install.pth file\u001b[0m\n",
            "\u001b[39mInstalling f2py script to /root/.local/bin\u001b[0m\n",
            "\u001b[39mInstalling f2py3 script to /root/.local/bin\u001b[0m\n",
            "\u001b[39mInstalling f2py3.7 script to /root/.local/bin\u001b[0m\n",
            "\u001b[39m\n",
            "Using /usr/local/lib/python3.7/dist-packages\u001b[0m\n",
            "\u001b[39mSearching for Pillow==7.1.2\u001b[0m\n",
            "\u001b[39mBest match: Pillow 7.1.2\u001b[0m\n",
            "\u001b[39mAdding Pillow 7.1.2 to easy-install.pth file\u001b[0m\n",
            "\u001b[39m\n",
            "Using /usr/local/lib/python3.7/dist-packages\u001b[0m\n",
            "\u001b[39mSearching for scipy==1.1.0\u001b[0m\n",
            "\u001b[39mBest match: scipy 1.1.0\u001b[0m\n",
            "\u001b[39mAdding scipy 1.1.0 to easy-install.pth file\u001b[0m\n",
            "\u001b[39m\n",
            "Using /usr/local/lib/python3.7/dist-packages\u001b[0m\n",
            "\u001b[39mSearching for PyWavelets==1.1.1\u001b[0m\n",
            "\u001b[39mBest match: PyWavelets 1.1.1\u001b[0m\n",
            "\u001b[39mAdding PyWavelets 1.1.1 to easy-install.pth file\u001b[0m\n",
            "\u001b[39m\n",
            "Using /usr/local/lib/python3.7/dist-packages\u001b[0m\n",
            "\u001b[39mSearching for imageio==2.4.1\u001b[0m\n",
            "\u001b[39mBest match: imageio 2.4.1\u001b[0m\n",
            "\u001b[39mAdding imageio 2.4.1 to easy-install.pth file\u001b[0m\n",
            "\u001b[39mInstalling imageio_download_bin script to /root/.local/bin\u001b[0m\n",
            "\u001b[39mInstalling imageio_remove_bin script to /root/.local/bin\u001b[0m\n",
            "\u001b[39m\n",
            "Using /usr/local/lib/python3.7/dist-packages\u001b[0m\n",
            "\u001b[39mSearching for networkx==2.5.1\u001b[0m\n",
            "\u001b[39mBest match: networkx 2.5.1\u001b[0m\n",
            "\u001b[39mAdding networkx 2.5.1 to easy-install.pth file\u001b[0m\n",
            "\u001b[39m\n",
            "Using /usr/local/lib/python3.7/dist-packages\u001b[0m\n",
            "\u001b[39mSearching for matplotlib==3.2.2\u001b[0m\n",
            "\u001b[39mBest match: matplotlib 3.2.2\u001b[0m\n",
            "\u001b[39mAdding matplotlib 3.2.2 to easy-install.pth file\u001b[0m\n",
            "\u001b[39m\n",
            "Using /usr/local/lib/python3.7/dist-packages\u001b[0m\n",
            "\u001b[39mSearching for fastrlock==0.6\u001b[0m\n",
            "\u001b[39mBest match: fastrlock 0.6\u001b[0m\n",
            "\u001b[39mAdding fastrlock 0.6 to easy-install.pth file\u001b[0m\n",
            "\u001b[39m\n",
            "Using /usr/local/lib/python3.7/dist-packages\u001b[0m\n",
            "\u001b[39mSearching for six==1.15.0\u001b[0m\n",
            "\u001b[39mBest match: six 1.15.0\u001b[0m\n",
            "\u001b[39mAdding six 1.15.0 to easy-install.pth file\u001b[0m\n",
            "\u001b[39m\n",
            "Using /usr/local/lib/python3.7/dist-packages\u001b[0m\n",
            "\u001b[39mSearching for protobuf==3.12.4\u001b[0m\n",
            "\u001b[39mBest match: protobuf 3.12.4\u001b[0m\n",
            "\u001b[39mAdding protobuf 3.12.4 to easy-install.pth file\u001b[0m\n",
            "\u001b[39m\n",
            "Using /usr/local/lib/python3.7/dist-packages\u001b[0m\n",
            "\u001b[39mSearching for typing-extensions==3.7.4.3\u001b[0m\n",
            "\u001b[39mBest match: typing-extensions 3.7.4.3\u001b[0m\n",
            "\u001b[39mAdding typing-extensions 3.7.4.3 to easy-install.pth file\u001b[0m\n",
            "\u001b[39m\n",
            "Using /usr/local/lib/python3.7/dist-packages\u001b[0m\n",
            "\u001b[39mSearching for filelock==3.0.12\u001b[0m\n",
            "\u001b[39mBest match: filelock 3.0.12\u001b[0m\n",
            "\u001b[39mAdding filelock 3.0.12 to easy-install.pth file\u001b[0m\n",
            "\u001b[39m\n",
            "Using /usr/local/lib/python3.7/dist-packages\u001b[0m\n",
            "\u001b[39mSearching for setuptools==57.0.0\u001b[0m\n",
            "\u001b[39mBest match: setuptools 57.0.0\u001b[0m\n",
            "\u001b[39mAdding setuptools 57.0.0 to easy-install.pth file\u001b[0m\n",
            "\u001b[39m\n",
            "Using /usr/local/lib/python3.7/dist-packages\u001b[0m\n",
            "\u001b[39mSearching for decorator==4.4.2\u001b[0m\n",
            "\u001b[39mBest match: decorator 4.4.2\u001b[0m\n",
            "\u001b[39mAdding decorator 4.4.2 to easy-install.pth file\u001b[0m\n",
            "\u001b[39m\n",
            "Using /usr/local/lib/python3.7/dist-packages\u001b[0m\n",
            "\u001b[39mSearching for python-dateutil==2.8.1\u001b[0m\n",
            "\u001b[39mBest match: python-dateutil 2.8.1\u001b[0m\n",
            "\u001b[39mAdding python-dateutil 2.8.1 to easy-install.pth file\u001b[0m\n",
            "\u001b[39m\n",
            "Using /usr/local/lib/python3.7/dist-packages\u001b[0m\n",
            "\u001b[39mSearching for cycler==0.10.0\u001b[0m\n",
            "\u001b[39mBest match: cycler 0.10.0\u001b[0m\n",
            "\u001b[39mAdding cycler 0.10.0 to easy-install.pth file\u001b[0m\n",
            "\u001b[39m\n",
            "Using /usr/local/lib/python3.7/dist-packages\u001b[0m\n",
            "\u001b[39mSearching for kiwisolver==1.3.1\u001b[0m\n",
            "\u001b[39mBest match: kiwisolver 1.3.1\u001b[0m\n",
            "\u001b[39mAdding kiwisolver 1.3.1 to easy-install.pth file\u001b[0m\n",
            "\u001b[39m\n",
            "Using /usr/local/lib/python3.7/dist-packages\u001b[0m\n",
            "\u001b[39mSearching for pyparsing==2.4.7\u001b[0m\n",
            "\u001b[39mBest match: pyparsing 2.4.7\u001b[0m\n",
            "\u001b[39mAdding pyparsing 2.4.7 to easy-install.pth file\u001b[0m\n",
            "\u001b[39m\n",
            "Using /usr/local/lib/python3.7/dist-packages\u001b[0m\n",
            "\u001b[39mFinished processing dependencies for neural-renderer==1.1.3\u001b[0m\n"
          ],
          "name": "stdout"
        }
      ]
    },
    {
      "cell_type": "code",
      "metadata": {
        "colab": {
          "base_uri": "https://localhost:8080/",
          "height": 35
        },
        "id": "rXKBzCfOf-F_",
        "outputId": "3bd2117a-0670-4e00-c11a-ff37b04bfbb0"
      },
      "source": [
        "pwd"
      ],
      "execution_count": 5,
      "outputs": [
        {
          "output_type": "execute_result",
          "data": {
            "application/vnd.google.colaboratory.intrinsic+json": {
              "type": "string"
            },
            "text/plain": [
              "'/content/style_transfer_3d/neural_renderer'"
            ]
          },
          "metadata": {
            "tags": []
          },
          "execution_count": 5
        }
      ]
    },
    {
      "cell_type": "code",
      "metadata": {
        "colab": {
          "base_uri": "https://localhost:8080/"
        },
        "id": "4oOqh5hJgBI9",
        "outputId": "12f4d89e-55e1-4333-d6fc-9cd37164559a"
      },
      "source": [
        "cd .."
      ],
      "execution_count": 6,
      "outputs": [
        {
          "output_type": "stream",
          "text": [
            "/content/style_transfer_3d\n"
          ],
          "name": "stdout"
        }
      ]
    },
    {
      "cell_type": "code",
      "metadata": {
        "colab": {
          "base_uri": "https://localhost:8080/"
        },
        "id": "Jk32gdwXho85",
        "outputId": "ddad84e4-c15b-44d5-e384-75bd778e8655"
      },
      "source": [
        "!pip install chainer"
      ],
      "execution_count": 7,
      "outputs": [
        {
          "output_type": "stream",
          "text": [
            "Requirement already satisfied: chainer in /usr/local/lib/python3.7/dist-packages (7.4.0)\n",
            "Requirement already satisfied: numpy>=1.9.0 in /usr/local/lib/python3.7/dist-packages (from chainer) (1.19.5)\n",
            "Requirement already satisfied: six>=1.9.0 in /usr/local/lib/python3.7/dist-packages (from chainer) (1.15.0)\n",
            "Requirement already satisfied: protobuf>=3.0.0 in /usr/local/lib/python3.7/dist-packages (from chainer) (3.12.4)\n",
            "Requirement already satisfied: setuptools in /usr/local/lib/python3.7/dist-packages (from chainer) (57.0.0)\n",
            "Requirement already satisfied: filelock in /usr/local/lib/python3.7/dist-packages (from chainer) (3.0.12)\n",
            "Requirement already satisfied: typing-extensions in /usr/local/lib/python3.7/dist-packages (from chainer) (3.7.4.3)\n"
          ],
          "name": "stdout"
        }
      ]
    },
    {
      "cell_type": "code",
      "metadata": {
        "colab": {
          "base_uri": "https://localhost:8080/"
        },
        "id": "aBt7e-GTh1y5",
        "outputId": "837852bc-f0ca-4883-f38a-a908c829ed86"
      },
      "source": [
        "import subprocess\n",
        "\n",
        "CUDA_version = [s for s in subprocess.check_output([\"nvcc\", \"--version\"]).decode(\"UTF-8\").split(\", \") if s.startswith(\"release\")][0].split(\" \")[-1]\n",
        "print(\"CUDA version:\", CUDA_version)\n",
        "\n",
        "if CUDA_version == \"10.0\":\n",
        "    torch_version_suffix = \"+cu100\"\n",
        "elif CUDA_version == \"10.1\":\n",
        "    torch_version_suffix = \"+cu101\"\n",
        "elif CUDA_version == \"10.2\":\n",
        "    torch_version_suffix = \"\"\n",
        "else:\n",
        "    torch_version_suffix = \"+cu110\"\n",
        "!pip install torch==1.2.0 torchvision==0.5.0\n"
      ],
      "execution_count": 8,
      "outputs": [
        {
          "output_type": "stream",
          "text": [
            "CUDA version: 11.0\n",
            "Collecting torch==1.2.0\n",
            "\u001b[?25l  Downloading https://files.pythonhosted.org/packages/05/65/5248be50c55ab7429dd5c11f5e2f9f5865606b80e854ca63139ad1a584f2/torch-1.2.0-cp37-cp37m-manylinux1_x86_64.whl (748.9MB)\n",
            "\u001b[K     |████████████████████████████████| 748.9MB 15kB/s \n",
            "\u001b[?25hCollecting torchvision==0.5.0\n",
            "\u001b[?25l  Downloading https://files.pythonhosted.org/packages/1c/32/cb0e4c43cd717da50258887b088471568990b5a749784c465a8a1962e021/torchvision-0.5.0-cp37-cp37m-manylinux1_x86_64.whl (4.0MB)\n",
            "\u001b[K     |████████████████████████████████| 4.0MB 109kB/s \n",
            "\u001b[?25hRequirement already satisfied: numpy in /usr/local/lib/python3.7/dist-packages (from torch==1.2.0) (1.19.5)\n",
            "Requirement already satisfied: six in /usr/local/lib/python3.7/dist-packages (from torchvision==0.5.0) (1.15.0)\n",
            "Requirement already satisfied: pillow>=4.1.1 in /usr/local/lib/python3.7/dist-packages (from torchvision==0.5.0) (7.1.2)\n",
            "\u001b[31mERROR: torchvision 0.5.0 has requirement torch==1.4.0, but you'll have torch 1.2.0 which is incompatible.\u001b[0m\n",
            "\u001b[31mERROR: torchtext 0.9.1 has requirement torch==1.8.1, but you'll have torch 1.2.0 which is incompatible.\u001b[0m\n",
            "Installing collected packages: torch, torchvision\n",
            "  Found existing installation: torch 1.8.1+cu101\n",
            "    Uninstalling torch-1.8.1+cu101:\n",
            "      Successfully uninstalled torch-1.8.1+cu101\n",
            "  Found existing installation: torchvision 0.9.1+cu101\n",
            "    Uninstalling torchvision-0.9.1+cu101:\n",
            "      Successfully uninstalled torchvision-0.9.1+cu101\n",
            "Successfully installed torch-1.2.0 torchvision-0.5.0\n"
          ],
          "name": "stdout"
        }
      ]
    },
    {
      "cell_type": "code",
      "metadata": {
        "colab": {
          "base_uri": "https://localhost:8080/"
        },
        "id": "4MfOK04vjBLT",
        "outputId": "8572cd49-6ead-4098-c695-37f94f84e3ae"
      },
      "source": [
        "!pip install scipy==1.1.0"
      ],
      "execution_count": 9,
      "outputs": [
        {
          "output_type": "stream",
          "text": [
            "Collecting scipy==1.1.0\n",
            "\u001b[?25l  Downloading https://files.pythonhosted.org/packages/40/de/0c22c6754370ba6b1fa8e53bd6e514d4a41a181125d405a501c215cbdbd6/scipy-1.1.0-cp37-cp37m-manylinux1_x86_64.whl (31.2MB)\n",
            "\u001b[K     |████████████████████████████████| 31.2MB 103kB/s \n",
            "\u001b[?25hRequirement already satisfied: numpy>=1.8.2 in /usr/local/lib/python3.7/dist-packages (from scipy==1.1.0) (1.19.5)\n",
            "\u001b[31mERROR: pymc3 3.11.2 has requirement scipy>=1.2.0, but you'll have scipy 1.1.0 which is incompatible.\u001b[0m\n",
            "\u001b[31mERROR: plotnine 0.6.0 has requirement scipy>=1.2.0, but you'll have scipy 1.1.0 which is incompatible.\u001b[0m\n",
            "\u001b[31mERROR: albumentations 0.1.12 has requirement imgaug<0.2.7,>=0.2.5, but you'll have imgaug 0.2.9 which is incompatible.\u001b[0m\n",
            "Installing collected packages: scipy\n",
            "  Found existing installation: scipy 1.4.1\n",
            "    Uninstalling scipy-1.4.1:\n",
            "      Successfully uninstalled scipy-1.4.1\n",
            "Successfully installed scipy-1.1.0\n"
          ],
          "name": "stdout"
        }
      ]
    },
    {
      "cell_type": "code",
      "metadata": {
        "colab": {
          "base_uri": "https://localhost:8080/"
        },
        "id": "IyK7TbZaifSR",
        "outputId": "32023c44-6418-4562-9904-db8de3b28bfb"
      },
      "source": [
        "!pip install 'cupy>=7.4.0,<8.0.0'"
      ],
      "execution_count": 25,
      "outputs": [
        {
          "output_type": "stream",
          "text": [
            "Collecting cupy<8.0.0,>=7.4.0\n",
            "  Using cached https://files.pythonhosted.org/packages/16/04/108de60b2c08138b950a351d4e954668489fa860835f84b96356dbcdc386/cupy-7.8.0.post1.tar.gz\n",
            "Requirement already satisfied: numpy>=1.9.0 in /usr/local/lib/python3.7/dist-packages (from cupy<8.0.0,>=7.4.0) (1.19.5)\n",
            "Requirement already satisfied: six>=1.9.0 in /usr/local/lib/python3.7/dist-packages (from cupy<8.0.0,>=7.4.0) (1.15.0)\n",
            "Requirement already satisfied: fastrlock>=0.3 in /usr/local/lib/python3.7/dist-packages (from cupy<8.0.0,>=7.4.0) (0.6)\n",
            "Building wheels for collected packages: cupy\n",
            "  Building wheel for cupy (setup.py) ... \u001b[?25lerror\n",
            "\u001b[31m  ERROR: Failed building wheel for cupy\u001b[0m\n",
            "\u001b[?25h  Running setup.py clean for cupy\n",
            "Failed to build cupy\n",
            "Installing collected packages: cupy\n",
            "  Found existing installation: cupy 10.0.0a1\n",
            "    Uninstalling cupy-10.0.0a1:\n",
            "      Successfully uninstalled cupy-10.0.0a1\n",
            "    Running setup.py install for cupy ... \u001b[?25l\u001b[?25herror\n",
            "  Rolling back uninstall of cupy\n",
            "  Moving to /root/.local/lib/python3.7/site-packages/cupy-10.0.0a1-py3.7-linux-x86_64.egg\n",
            "   from /root/.local/lib/python3.7/site-packages/~upy-10.0.0a1-py3.7-linux-x86_64.egg\n",
            "\u001b[31mERROR: Command errored out with exit status 1: /usr/bin/python3 -u -c 'import sys, setuptools, tokenize; sys.argv[0] = '\"'\"'/tmp/pip-install-ssadqlk_/cupy/setup.py'\"'\"'; __file__='\"'\"'/tmp/pip-install-ssadqlk_/cupy/setup.py'\"'\"';f=getattr(tokenize, '\"'\"'open'\"'\"', open)(__file__);code=f.read().replace('\"'\"'\\r\\n'\"'\"', '\"'\"'\\n'\"'\"');f.close();exec(compile(code, __file__, '\"'\"'exec'\"'\"'))' install --record /tmp/pip-record-ypwfty43/install-record.txt --single-version-externally-managed --compile Check the logs for full command output.\u001b[0m\n"
          ],
          "name": "stdout"
        }
      ]
    },
    {
      "cell_type": "code",
      "metadata": {
        "colab": {
          "base_uri": "https://localhost:8080/",
          "height": 35
        },
        "id": "s3GpgPypjUCI",
        "outputId": "fd78a253-660a-4dfe-a136-f506a19ed0a1"
      },
      "source": [
        "pwd"
      ],
      "execution_count": 12,
      "outputs": [
        {
          "output_type": "execute_result",
          "data": {
            "application/vnd.google.colaboratory.intrinsic+json": {
              "type": "string"
            },
            "text/plain": [
              "'/content/style_transfer_3d'"
            ]
          },
          "metadata": {
            "tags": []
          },
          "execution_count": 12
        }
      ]
    },
    {
      "cell_type": "code",
      "metadata": {
        "colab": {
          "base_uri": "https://localhost:8080/"
        },
        "id": "0PMI-55yuq5f",
        "outputId": "d898a76e-120a-4892-b63c-538be5eae5fd"
      },
      "source": [
        "!sudo apt install imagemagick"
      ],
      "execution_count": 13,
      "outputs": [
        {
          "output_type": "stream",
          "text": [
            "Processing triggers for man-db (2.8.3-2ubuntu0.1) ...\n"
          ],
          "name": "stdout"
        }
      ]
    },
    {
      "cell_type": "code",
      "metadata": {
        "colab": {
          "base_uri": "https://localhost:8080/"
        },
        "id": "mj3gyAlTu4k8",
        "outputId": "f9efd7a1-76a7-450a-bcab-384c9fb5f120"
      },
      "source": [
        "!which convert"
      ],
      "execution_count": 14,
      "outputs": [
        {
          "output_type": "stream",
          "text": [
            "/usr/bin/convert\n"
          ],
          "name": "stdout"
        }
      ]
    },
    {
      "cell_type": "code",
      "metadata": {
        "colab": {
          "base_uri": "https://localhost:8080/"
        },
        "id": "FJdrrwsMiNMi",
        "outputId": "089dcffd-0bdc-4662-93d2-d42d0bd8a669"
      },
      "source": [
        "cd .."
      ],
      "execution_count": 22,
      "outputs": [
        {
          "output_type": "stream",
          "text": [
            "/content/style_transfer_3d\n"
          ],
          "name": "stdout"
        }
      ]
    },
    {
      "cell_type": "code",
      "metadata": {
        "colab": {
          "base_uri": "https://localhost:8080/"
        },
        "id": "CJs8QerrY-05",
        "outputId": "5a708621-4dd6-4292-cd34-cad6eeffcc72"
      },
      "source": [
        "!bash ./examples/run.sh\n"
      ],
      "execution_count": null,
      "outputs": [
        {
          "output_type": "stream",
          "text": [
            "Optimizing. Loss 6078952960.0000: 100% 1000/1000 [06:11<00:00,  2.69it/s]\n",
            "Drawing:   0% 0/90 [00:00<?, ?it/s]./examples/run.py:239: DeprecationWarning:     `toimage` is deprecated!\n",
            "    `toimage` is deprecated in SciPy 1.0.0, and will be removed in 1.2.0.\n",
            "    Use Pillow's ``Image.fromarray`` directly instead.\n",
            "  scipy.misc.toimage(image, cmin=0, cmax=1).save('%s/_tmp_%04d.png' % (directory_output, num))\n",
            "Drawing: 100% 90/90 [00:03<00:00, 24.50it/s]\n",
            "./examples/run.py:53: DeprecationWarning:     `imread` is deprecated!\n",
            "    `imread` is deprecated in SciPy 1.0.0, and will be removed in 1.2.0.\n",
            "    Use ``imageio.imread`` instead.\n",
            "  reference_image = scipy.misc.imread(filename_style)\n",
            "./examples/run.py:54: DeprecationWarning:     `imresize` is deprecated!\n",
            "    `imresize` is deprecated in SciPy 1.0.0, and will be removed in 1.2.0.\n",
            "    Use ``skimage.transform.resize`` instead.\n",
            "  reference_image = scipy.misc.imresize(reference_image, (image_size, image_size))\n",
            "Optimizing. Loss 5427338752.0000:  21% 212/1000 [02:06<07:44,  1.70it/s]"
          ],
          "name": "stdout"
        }
      ]
    },
    {
      "cell_type": "code",
      "metadata": {
        "id": "bmSe_O31lqN-"
      },
      "source": [
        ""
      ],
      "execution_count": null,
      "outputs": []
    }
  ]
}